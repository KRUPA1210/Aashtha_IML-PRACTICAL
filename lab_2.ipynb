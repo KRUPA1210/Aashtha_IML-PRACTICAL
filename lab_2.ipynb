{
 "cells": [
  {
   "cell_type": "code",
   "execution_count": 1,
   "id": "1a4e33d9",
   "metadata": {
    "execution": {
     "iopub.execute_input": "2023-11-17T07:24:22.493936Z",
     "iopub.status.busy": "2023-11-17T07:24:22.493505Z",
     "iopub.status.idle": "2023-11-17T07:24:22.509093Z",
     "shell.execute_reply": "2023-11-17T07:24:22.507953Z"
    },
    "papermill": {
     "duration": 0.02271,
     "end_time": "2023-11-17T07:24:22.511473",
     "exception": false,
     "start_time": "2023-11-17T07:24:22.488763",
     "status": "completed"
    },
    "tags": []
   },
   "outputs": [
    {
     "name": "stdout",
     "output_type": "stream",
     "text": [
      "[1 2 3 4 5]\n"
     ]
    }
   ],
   "source": [
    "#Name:Jethava Aashtha\n",
    "#Enrollment No:216270307089\n",
    "\n",
    "'''2.1->to convert a list of numeric values into a one-dimensional NumPy \n",
    "array'''\n",
    "import numpy as np\n",
    "numeric_values = [1, 2, 3, 4, 5]\n",
    "\n",
    "# Convert the list to a one-dimensional NumPy array\n",
    "array = np.array(numeric_values)\n",
    "print(array)\n"
   ]
  },
  {
   "cell_type": "code",
   "execution_count": 2,
   "id": "90719f54",
   "metadata": {
    "execution": {
     "iopub.execute_input": "2023-11-17T07:24:22.520378Z",
     "iopub.status.busy": "2023-11-17T07:24:22.519980Z",
     "iopub.status.idle": "2023-11-17T07:24:22.526339Z",
     "shell.execute_reply": "2023-11-17T07:24:22.525258Z"
    },
    "papermill": {
     "duration": 0.0129,
     "end_time": "2023-11-17T07:24:22.529068",
     "exception": false,
     "start_time": "2023-11-17T07:24:22.516168",
     "status": "completed"
    },
    "tags": []
   },
   "outputs": [
    {
     "name": "stdout",
     "output_type": "stream",
     "text": [
      "[[ 2  3  4]\n",
      " [ 5  6  7]\n",
      " [ 8  9 10]]\n"
     ]
    }
   ],
   "source": [
    "'''2.2-> to create a 3x3 matrix with values ranging from 2 to 10'''\n",
    "import numpy as np\n",
    "matrix = np.arange(2, 11).reshape(3, 3)\n",
    "print(matrix)"
   ]
  },
  {
   "cell_type": "code",
   "execution_count": 3,
   "id": "088ee1a4",
   "metadata": {
    "execution": {
     "iopub.execute_input": "2023-11-17T07:24:22.536373Z",
     "iopub.status.busy": "2023-11-17T07:24:22.536000Z",
     "iopub.status.idle": "2023-11-17T07:24:22.543159Z",
     "shell.execute_reply": "2023-11-17T07:24:22.542042Z"
    },
    "papermill": {
     "duration": 0.014224,
     "end_time": "2023-11-17T07:24:22.546119",
     "exception": false,
     "start_time": "2023-11-17T07:24:22.531895",
     "status": "completed"
    },
    "tags": []
   },
   "outputs": [
    {
     "name": "stdout",
     "output_type": "stream",
     "text": [
      "Array: [1 2 3]\n",
      "Array after Appending values [1 2 3 4 5 6]\n"
     ]
    }
   ],
   "source": [
    "'''2.3->to append values at the end of an array\n",
    "'''\n",
    "import numpy as np\n",
    "arr = np.array([1, 2, 3])\n",
    "print(\"Array:\",arr)\n",
    "# Append values to the end of the array\n",
    "arr = np.append(arr,[4, 5, 6])\n",
    "print(\"Array after Appending values\",arr)\n"
   ]
  },
  {
   "cell_type": "code",
   "execution_count": 4,
   "id": "aaddaefb",
   "metadata": {
    "execution": {
     "iopub.execute_input": "2023-11-17T07:24:22.553840Z",
     "iopub.status.busy": "2023-11-17T07:24:22.553464Z",
     "iopub.status.idle": "2023-11-17T07:24:22.560484Z",
     "shell.execute_reply": "2023-11-17T07:24:22.559393Z"
    },
    "papermill": {
     "duration": 0.014226,
     "end_time": "2023-11-17T07:24:22.563326",
     "exception": false,
     "start_time": "2023-11-17T07:24:22.549100",
     "status": "completed"
    },
    "tags": []
   },
   "outputs": [
    {
     "name": "stdout",
     "output_type": "stream",
     "text": [
      "original array:\n",
      " [[1 2]\n",
      " [3 4]\n",
      " [5 6]]\n",
      "the new array:\n",
      " [[1 2 3]\n",
      " [4 5 6]]\n"
     ]
    }
   ],
   "source": [
    "'''2.4->to create another shape from an array without changing its data(3*2 \n",
    "to 2*3)'''\n",
    "import numpy as np\n",
    "a = np.array([[1, 2], [3, 4], [5, 6]])\n",
    "# Create a 2x3 array from the same data\n",
    "b = np.reshape(a, (2, 3))\n",
    "print(\"original array:\\n\",a)\n",
    "print(\"the new array:\\n\",b)\n"
   ]
  }
 ],
 "metadata": {
  "kaggle": {
   "accelerator": "none",
   "dataSources": [],
   "dockerImageVersionId": 30558,
   "isGpuEnabled": false,
   "isInternetEnabled": false,
   "language": "python",
   "sourceType": "notebook"
  },
  "kernelspec": {
   "display_name": "Python 3",
   "language": "python",
   "name": "python3"
  },
  "language_info": {
   "codemirror_mode": {
    "name": "ipython",
    "version": 3
   },
   "file_extension": ".py",
   "mimetype": "text/x-python",
   "name": "python",
   "nbconvert_exporter": "python",
   "pygments_lexer": "ipython3",
   "version": "3.10.12"
  },
  "papermill": {
   "default_parameters": {},
   "duration": 4.825349,
   "end_time": "2023-11-17T07:24:22.985077",
   "environment_variables": {},
   "exception": null,
   "input_path": "__notebook__.ipynb",
   "output_path": "__notebook__.ipynb",
   "parameters": {},
   "start_time": "2023-11-17T07:24:18.159728",
   "version": "2.4.0"
  }
 },
 "nbformat": 4,
 "nbformat_minor": 5
}
