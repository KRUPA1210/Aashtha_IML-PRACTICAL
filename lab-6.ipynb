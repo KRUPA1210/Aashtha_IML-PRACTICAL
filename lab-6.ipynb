{
 "cells": [
  {
   "cell_type": "code",
   "execution_count": 1,
   "id": "e28c0f8e",
   "metadata": {
    "execution": {
     "iopub.execute_input": "2023-11-17T07:37:23.578107Z",
     "iopub.status.busy": "2023-11-17T07:37:23.577147Z",
     "iopub.status.idle": "2023-11-17T07:37:24.506255Z",
     "shell.execute_reply": "2023-11-17T07:37:24.504835Z"
    },
    "papermill": {
     "duration": 0.936882,
     "end_time": "2023-11-17T07:37:24.509253",
     "exception": false,
     "start_time": "2023-11-17T07:37:23.572371",
     "status": "completed"
    },
    "tags": []
   },
   "outputs": [
    {
     "name": "stdout",
     "output_type": "stream",
     "text": [
      "a    23\n",
      "b    45\n",
      "c    56\n",
      "d    67\n",
      "e    12\n",
      "dtype: int64\n"
     ]
    }
   ],
   "source": [
    "#Name:Jethava Aashtha\n",
    "#Enrollment No:216270307089\n",
    "\n",
    "'''6.1->convert a NumPy array to a Pandas series'''\n",
    "\n",
    "import pandas as pd\n",
    "a=pd.Series([23,45,56,67,12],index=['a','b','c','d','e']);\n",
    "print(a);\n"
   ]
  },
  {
   "cell_type": "code",
   "execution_count": 2,
   "id": "20d7de13",
   "metadata": {
    "execution": {
     "iopub.execute_input": "2023-11-17T07:37:24.518718Z",
     "iopub.status.busy": "2023-11-17T07:37:24.518137Z",
     "iopub.status.idle": "2023-11-17T07:37:24.537613Z",
     "shell.execute_reply": "2023-11-17T07:37:24.535986Z"
    },
    "papermill": {
     "duration": 0.027978,
     "end_time": "2023-11-17T07:37:24.542143",
     "exception": false,
     "start_time": "2023-11-17T07:37:24.514165",
     "status": "completed"
    },
    "tags": []
   },
   "outputs": [
    {
     "name": "stdout",
     "output_type": "stream",
     "text": [
      "Original DataFrame\n",
      "   col1  col2  col3\n",
      "0     1     4     7\n",
      "1     2     5     5\n",
      "2     3     6     8\n",
      "3     4     9    12\n",
      "4     7     5     1\n",
      "5    11     0    11\n",
      "\n",
      "1st column as a Series:\n",
      "0     1\n",
      "1     2\n",
      "2     3\n",
      "3     4\n",
      "4     7\n",
      "5    11\n",
      "Name: col1, dtype: int64\n"
     ]
    }
   ],
   "source": [
    "'''6.2->to convert the first column of a DataFrame as a Series'''\n",
    "\n",
    "import pandas as pd\n",
    "#Creating the dictionary\n",
    "d = {'col1': [1, 2, 3, 4, 7, 11], 'col2': [4, 5, 6, 9, 5, 0], 'col3': [7, 5, 8, 12, 1,11]}\n",
    "\n",
    "#Creating Dataframe\n",
    "df = pd.DataFrame(d)\n",
    "\n",
    "#Printing the Original Dataframe\n",
    "print(\"Original DataFrame\")\n",
    "print(df)\n",
    "\n",
    "#Converting the first column to series\n",
    "s1 = df.iloc[:,0]\n",
    "\n",
    "#Printing the New Dataframe\n",
    "print(\"\\n1st column as a Series:\")\n",
    "print(s1)\n"
   ]
  },
  {
   "cell_type": "code",
   "execution_count": 3,
   "id": "1d174ad7",
   "metadata": {
    "_cell_guid": "b1076dfc-b9ad-4769-8c92-a6c4dae69d19",
    "_uuid": "8f2839f25d086af736a60e9eeb907d3b93b6e0e5",
    "execution": {
     "iopub.execute_input": "2023-11-17T07:37:24.549886Z",
     "iopub.status.busy": "2023-11-17T07:37:24.549495Z",
     "iopub.status.idle": "2023-11-17T07:37:24.559090Z",
     "shell.execute_reply": "2023-11-17T07:37:24.557950Z"
    },
    "papermill": {
     "duration": 0.015773,
     "end_time": "2023-11-17T07:37:24.561587",
     "exception": false,
     "start_time": "2023-11-17T07:37:24.545814",
     "status": "completed"
    },
    "tags": []
   },
   "outputs": [
    {
     "name": "stdout",
     "output_type": "stream",
     "text": [
      "Mean: 3.0\n",
      "Standard Deviation: 1.5811388300841898\n"
     ]
    }
   ],
   "source": [
    "'''6.3->to create the mean and standard deviation of the data of a given \n",
    "Series'''\n",
    "\n",
    "import pandas as pd\n",
    "# Creating a sample Series\n",
    "data = [1, 2, 3, 4, 5]\n",
    "series = pd.Series(data)\n",
    "\n",
    "# Calculating the mean\n",
    "mean = series.mean()\n",
    "\n",
    "# Calculating the standard deviation\n",
    "std_deviation = series.std()\n",
    "\n",
    "print(\"Mean:\", mean)\n",
    "print(\"Standard Deviation:\", std_deviation)"
   ]
  },
  {
   "cell_type": "code",
   "execution_count": 4,
   "id": "3cd47145",
   "metadata": {
    "execution": {
     "iopub.execute_input": "2023-11-17T07:37:24.568159Z",
     "iopub.status.busy": "2023-11-17T07:37:24.567745Z",
     "iopub.status.idle": "2023-11-17T07:37:24.580680Z",
     "shell.execute_reply": "2023-11-17T07:37:24.579267Z"
    },
    "papermill": {
     "duration": 0.018853,
     "end_time": "2023-11-17T07:37:24.582977",
     "exception": false,
     "start_time": "2023-11-17T07:37:24.564124",
     "status": "completed"
    },
    "tags": []
   },
   "outputs": [
    {
     "name": "stdout",
     "output_type": "stream",
     "text": [
      "Sorted Series (Ascending):\n",
      "1    1\n",
      "2    2\n",
      "0    3\n",
      "4    4\n",
      "3    5\n",
      "dtype: int64\n",
      "\n",
      "Sorted Series (Descending):\n",
      "3    5\n",
      "4    4\n",
      "0    3\n",
      "2    2\n",
      "1    1\n",
      "dtype: int64\n"
     ]
    }
   ],
   "source": [
    "'''6.4->to sort a given Series'''\n",
    "\n",
    "import pandas as pd\n",
    "\n",
    "# Creating a sample Series\n",
    "data = {'A': [3, 1, 2, 5, 4]}\n",
    "series = pd.Series(data['A'])\n",
    "\n",
    "# Sorting the Series in ascending order\n",
    "sorted_series = series.sort_values()\n",
    "print(\"Sorted Series (Ascending):\")\n",
    "print(sorted_series)\n",
    "\n",
    "# Sorting the Series in descending order\n",
    "sorted_series_desc = series.sort_values(ascending=False)\n",
    "print(\"\\nSorted Series (Descending):\")\n",
    "print(sorted_series_desc)"
   ]
  }
 ],
 "metadata": {
  "kaggle": {
   "accelerator": "none",
   "dataSources": [],
   "dockerImageVersionId": 30558,
   "isGpuEnabled": false,
   "isInternetEnabled": false,
   "language": "python",
   "sourceType": "notebook"
  },
  "kernelspec": {
   "display_name": "Python 3",
   "language": "python",
   "name": "python3"
  },
  "language_info": {
   "codemirror_mode": {
    "name": "ipython",
    "version": 3
   },
   "file_extension": ".py",
   "mimetype": "text/x-python",
   "name": "python",
   "nbconvert_exporter": "python",
   "pygments_lexer": "ipython3",
   "version": "3.10.12"
  },
  "papermill": {
   "default_parameters": {},
   "duration": 5.700121,
   "end_time": "2023-11-17T07:37:25.106746",
   "environment_variables": {},
   "exception": null,
   "input_path": "__notebook__.ipynb",
   "output_path": "__notebook__.ipynb",
   "parameters": {},
   "start_time": "2023-11-17T07:37:19.406625",
   "version": "2.4.0"
  }
 },
 "nbformat": 4,
 "nbformat_minor": 5
}
