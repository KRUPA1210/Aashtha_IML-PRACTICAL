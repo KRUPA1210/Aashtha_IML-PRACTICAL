{
 "cells": [
  {
   "cell_type": "code",
   "execution_count": 1,
   "id": "2f4518b5",
   "metadata": {
    "_cell_guid": "b1076dfc-b9ad-4769-8c92-a6c4dae69d19",
    "_uuid": "8f2839f25d086af736a60e9eeb907d3b93b6e0e5",
    "execution": {
     "iopub.execute_input": "2023-11-17T07:38:05.012370Z",
     "iopub.status.busy": "2023-11-17T07:38:05.011367Z",
     "iopub.status.idle": "2023-11-17T07:38:06.019618Z",
     "shell.execute_reply": "2023-11-17T07:38:06.018149Z"
    },
    "papermill": {
     "duration": 1.017609,
     "end_time": "2023-11-17T07:38:06.022779",
     "exception": false,
     "start_time": "2023-11-17T07:38:05.005170",
     "status": "completed"
    },
    "tags": []
   },
   "outputs": [
    {
     "name": "stdout",
     "output_type": "stream",
     "text": [
      "\n",
      " DICTIONARY :\n",
      "{'Valuess': ['Oneee', 'Twoo', 'Threee', 'Fourr'], 'Numbers': [1, 2, 3, 4]}\n",
      "\n",
      "\n",
      " DATAFRAME : \n",
      "  Valuess  Numbers\n",
      "0   Oneee        1\n",
      "1    Twoo        2\n",
      "2  Threee        3\n",
      "3   Fourr        4\n",
      "\n"
     ]
    }
   ],
   "source": [
    "#Name:Jethava Aashtha\n",
    "#Enrollment No:216270307089\n",
    "\n",
    "'''7.1->to create a dataframe from a dictionary and display it'''\n",
    "import pandas as pd\n",
    "\n",
    "# creating dictionary \n",
    "data = {'Valuess': ['Oneee', 'Twoo', 'Threee', 'Fourr'], \n",
    "        'Numbers': [1,2,3,4]}\n",
    "# converting dictionary data into pandas Dataframe d\n",
    "d = pd.DataFrame(data)\n",
    "\n",
    "# printing dictionary \n",
    "print()\n",
    "print(\" DICTIONARY :\")\n",
    "print(data)\n",
    "print()\n",
    "\n",
    "# printing DataFrame\n",
    "print()\n",
    "print(\" DATAFRAME : \")\n",
    "print(d)\n",
    "print()"
   ]
  },
  {
   "cell_type": "code",
   "execution_count": 2,
   "id": "d994ad41",
   "metadata": {
    "execution": {
     "iopub.execute_input": "2023-11-17T07:38:06.035208Z",
     "iopub.status.busy": "2023-11-17T07:38:06.033622Z",
     "iopub.status.idle": "2023-11-17T07:38:06.052222Z",
     "shell.execute_reply": "2023-11-17T07:38:06.050726Z"
    },
    "papermill": {
     "duration": 0.026175,
     "end_time": "2023-11-17T07:38:06.054880",
     "exception": false,
     "start_time": "2023-11-17T07:38:06.028705",
     "status": "completed"
    },
    "tags": []
   },
   "outputs": [
    {
     "name": "stdout",
     "output_type": "stream",
     "text": [
      "\n",
      " BEFORE SORTING DATAFRAME : \n",
      "\n",
      "   Age Name\n",
      "0   12    A\n",
      "1   24    B\n",
      "2   25    C\n",
      "3   56    D\n",
      "\n",
      " AFTER SORTING DATAFRAME : \n",
      "\n",
      "   Age Name\n",
      "0   12    A\n",
      "1   24    B\n",
      "2   25    C\n",
      "3   56    D\n"
     ]
    }
   ],
   "source": [
    "'''7.2->to sort the DataFrame first by 'name' in ascending order'''\n",
    "import pandas as pd\n",
    "\n",
    "# creating dictionary \n",
    "data = {'Age': [12,24,25,56], \n",
    "        'Name': ['A','B','C','D']}\n",
    "# converting dictionary data into pandas Dataframe d\n",
    "d = pd.DataFrame(data)\n",
    "\n",
    "# printing Dataframe\n",
    "print()\n",
    "print(\" BEFORE SORTING DATAFRAME : \")\n",
    "print()\n",
    "print(d)\n",
    "\n",
    "# now , sorting dataframe first by name \n",
    "print()\n",
    "print(\" AFTER SORTING DATAFRAME : \")\n",
    "print()\n",
    "print(d.sort_values(by=['Name'],ascending=True))"
   ]
  },
  {
   "cell_type": "code",
   "execution_count": 3,
   "id": "e1a431dc",
   "metadata": {
    "execution": {
     "iopub.execute_input": "2023-11-17T07:38:06.063189Z",
     "iopub.status.busy": "2023-11-17T07:38:06.062723Z",
     "iopub.status.idle": "2023-11-17T07:38:06.081558Z",
     "shell.execute_reply": "2023-11-17T07:38:06.080293Z"
    },
    "papermill": {
     "duration": 0.025985,
     "end_time": "2023-11-17T07:38:06.084171",
     "exception": false,
     "start_time": "2023-11-17T07:38:06.058186",
     "status": "completed"
    },
    "tags": []
   },
   "outputs": [
    {
     "name": "stdout",
     "output_type": "stream",
     "text": [
      "\n",
      " DATAFRAME BEOFRE DELETEING PERCENTAGE COLUMN : \n",
      "\n",
      "   Number Values percentage\n",
      "0      12      A        35%\n",
      "1      24      B        78%\n",
      "2      25      C        67%\n",
      "3      56      D        89%\n",
      "\n",
      " DATAFRAME AFTER DELETEING PERCENTAGE COLUMN : \n",
      "\n",
      "   Number Values\n",
      "0      12      A\n",
      "1      24      B\n",
      "2      25      C\n",
      "3      56      D\n"
     ]
    }
   ],
   "source": [
    "'''7.3-> to delete the one specific column from the DataFrame'''\n",
    "\n",
    "import pandas as pd\n",
    "\n",
    "# creating DataFrame\n",
    "data = {'Number': [12,24,25,56],\n",
    "        'Values': ['A','B','C','D'],\n",
    "        'percentage': ['35%','78%','67%','89%']}\n",
    "\n",
    "d = pd.DataFrame(data)\n",
    "\n",
    "# printing DataFrame\n",
    "print()\n",
    "print(\" DATAFRAME BEOFRE DELETEING PERCENTAGE COLUMN : \")\n",
    "print()\n",
    "print(d)\n",
    "\n",
    "# deleting percentage column from DataFrame d\n",
    "d.__delitem__('percentage') \n",
    "\n",
    "# again printing DataFrame After deleting one column \n",
    "print()\n",
    "print(\" DATAFRAME AFTER DELETEING PERCENTAGE COLUMN : \")\n",
    "print()\n",
    "print(d)"
   ]
  },
  {
   "cell_type": "code",
   "execution_count": 4,
   "id": "8b68d4c9",
   "metadata": {
    "execution": {
     "iopub.execute_input": "2023-11-17T07:38:06.093130Z",
     "iopub.status.busy": "2023-11-17T07:38:06.092642Z",
     "iopub.status.idle": "2023-11-17T07:38:06.109797Z",
     "shell.execute_reply": "2023-11-17T07:38:06.108515Z"
    },
    "papermill": {
     "duration": 0.02487,
     "end_time": "2023-11-17T07:38:06.112619",
     "exception": false,
     "start_time": "2023-11-17T07:38:06.087749",
     "status": "completed"
    },
    "tags": []
   },
   "outputs": [
    {
     "name": "stdout",
     "output_type": "stream",
     "text": [
      "\n",
      "DATAFRAME\n",
      "\n",
      "      Name  Age         City\n",
      "0    Alice   25     New York\n",
      "1      Bob   30  Los Angeles\n",
      "2  Charlie   35      Chicago\n",
      "\n",
      "DataFrame has been saved to C:\\SEM-5\\Introduction to Machine Learning\\p7_4_csv.xlsx with tab separator.\n"
     ]
    }
   ],
   "source": [
    "'''7.4->to write a DataFrame to CSV file using tab separator'''\n",
    "import pandas as pd\n",
    "\n",
    "# creating DataFrame\n",
    "data = {'Name': ['Alice', 'Bob', 'Charlie'],\n",
    "        'Age': [25, 30, 35],\n",
    "        'City': ['New York', 'Los Angeles', 'Chicago']}\n",
    "d = pd.DataFrame(data)\n",
    "\n",
    "# printing Dataframe\n",
    "print()\n",
    "print(\"DATAFRAME\")\n",
    "print()\n",
    "print(d)\n",
    "\n",
    "# Specifing the file path where i want to save the CSV file\n",
    "file_path = 'C:\\SEM-5\\Introduction to Machine Learning\\p7_4_csv.xlsx'\n",
    "\n",
    "# Writing the DataFrame to a CSV file with tab separator\n",
    "d.to_csv(file_path, sep='\\t', index=False)\n",
    "print()\n",
    "print(f'DataFrame has been saved to {file_path} with tab separator.')"
   ]
  }
 ],
 "metadata": {
  "kaggle": {
   "accelerator": "none",
   "dataSources": [
    {
     "sourceId": 148493814,
     "sourceType": "kernelVersion"
    }
   ],
   "dockerImageVersionId": 30558,
   "isGpuEnabled": false,
   "isInternetEnabled": false,
   "language": "python",
   "sourceType": "notebook"
  },
  "kernelspec": {
   "display_name": "Python 3",
   "language": "python",
   "name": "python3"
  },
  "language_info": {
   "codemirror_mode": {
    "name": "ipython",
    "version": 3
   },
   "file_extension": ".py",
   "mimetype": "text/x-python",
   "name": "python",
   "nbconvert_exporter": "python",
   "pygments_lexer": "ipython3",
   "version": "3.10.12"
  },
  "papermill": {
   "default_parameters": {},
   "duration": 6.401783,
   "end_time": "2023-11-17T07:38:06.839436",
   "environment_variables": {},
   "exception": null,
   "input_path": "__notebook__.ipynb",
   "output_path": "__notebook__.ipynb",
   "parameters": {},
   "start_time": "2023-11-17T07:38:00.437653",
   "version": "2.4.0"
  }
 },
 "nbformat": 4,
 "nbformat_minor": 5
}
