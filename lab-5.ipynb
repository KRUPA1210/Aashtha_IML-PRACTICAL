{
 "cells": [
  {
   "cell_type": "code",
   "execution_count": 1,
   "id": "3df0ba4d",
   "metadata": {
    "_cell_guid": "b1076dfc-b9ad-4769-8c92-a6c4dae69d19",
    "_uuid": "8f2839f25d086af736a60e9eeb907d3b93b6e0e5",
    "execution": {
     "iopub.execute_input": "2023-11-17T07:35:50.414763Z",
     "iopub.status.busy": "2023-11-17T07:35:50.414374Z",
     "iopub.status.idle": "2023-11-17T07:35:50.428338Z",
     "shell.execute_reply": "2023-11-17T07:35:50.427200Z"
    },
    "papermill": {
     "duration": 0.019813,
     "end_time": "2023-11-17T07:35:50.430601",
     "exception": false,
     "start_time": "2023-11-17T07:35:50.410788",
     "status": "completed"
    },
    "tags": []
   },
   "outputs": [
    {
     "name": "stdout",
     "output_type": "stream",
     "text": [
      "[[101 201 301]\n",
      " [401 501 601]\n",
      " [701 801 901]]\n",
      "\n",
      "Maximum value : 901\n",
      "Minimum value : 101\n"
     ]
    }
   ],
   "source": [
    "#Name:Jethava Aashtha\n",
    "#Enrollment No:216270307089\n",
    "\n",
    "'''5.1->o find the maximum and minimum value of a given flattened array'''\n",
    "\n",
    "import numpy as np\n",
    "Arr = np.array([[101, 201, 301],[401, 501, 601],[701, 801, \n",
    "901]])\n",
    "# Flattening the array \n",
    "flattened = Arr.flatten()\n",
    "# Maximum and Minimum values from the flattened array\n",
    "max_value = np.max(flattened)\n",
    "min_value = np.min(flattened)\n",
    "print(Arr)\n",
    "print(\"\\nMaximum value :\", max_value)\n",
    "print(\"Minimum value :\", min_value)\n"
   ]
  },
  {
   "cell_type": "code",
   "execution_count": 2,
   "id": "c2ac0854",
   "metadata": {
    "execution": {
     "iopub.execute_input": "2023-11-17T07:35:50.438554Z",
     "iopub.status.busy": "2023-11-17T07:35:50.437795Z",
     "iopub.status.idle": "2023-11-17T07:35:50.445418Z",
     "shell.execute_reply": "2023-11-17T07:35:50.444430Z"
    },
    "papermill": {
     "duration": 0.014899,
     "end_time": "2023-11-17T07:35:50.447751",
     "exception": false,
     "start_time": "2023-11-17T07:35:50.432852",
     "status": "completed"
    },
    "tags": []
   },
   "outputs": [
    {
     "name": "stdout",
     "output_type": "stream",
     "text": [
      "[[101 201 301]\n",
      " [401 501 601]\n",
      " [701 801 901]]\n",
      "\n",
      "Mean along the second axis: [201. 501. 801.]\n",
      "\n",
      "Standard Deviation along the second axis: [81.64965809 81.64965809 81.64965809]\n",
      "\n",
      "Variance along the second axis: [6666.66666667 6666.66666667 6666.66666667]\n"
     ]
    }
   ],
   "source": [
    "'''5.2->to compute the mean, standard deviation, and variance of a given \n",
    "array along the second axis'''\n",
    "\n",
    "mean_sa = np.mean(Arr, axis=1)\n",
    "std_deviation = np.std(Arr, axis=1)\n",
    "variance = np.var(Arr, axis=1)\n",
    "print(Arr)\n",
    "print(\"\\nMean along the second axis:\", mean_sa)\n",
    "print(\"\\nStandard Deviation along the second axis:\", \n",
    "std_deviation)\n",
    "print(\"\\nVariance along the second axis:\", variance)\n"
   ]
  }
 ],
 "metadata": {
  "kaggle": {
   "accelerator": "none",
   "dataSources": [],
   "dockerImageVersionId": 30558,
   "isGpuEnabled": false,
   "isInternetEnabled": false,
   "language": "python",
   "sourceType": "notebook"
  },
  "kernelspec": {
   "display_name": "Python 3",
   "language": "python",
   "name": "python3"
  },
  "language_info": {
   "codemirror_mode": {
    "name": "ipython",
    "version": 3
   },
   "file_extension": ".py",
   "mimetype": "text/x-python",
   "name": "python",
   "nbconvert_exporter": "python",
   "pygments_lexer": "ipython3",
   "version": "3.10.12"
  },
  "papermill": {
   "default_parameters": {},
   "duration": 4.197493,
   "end_time": "2023-11-17T07:35:50.768114",
   "environment_variables": {},
   "exception": null,
   "input_path": "__notebook__.ipynb",
   "output_path": "__notebook__.ipynb",
   "parameters": {},
   "start_time": "2023-11-17T07:35:46.570621",
   "version": "2.4.0"
  }
 },
 "nbformat": 4,
 "nbformat_minor": 5
}
